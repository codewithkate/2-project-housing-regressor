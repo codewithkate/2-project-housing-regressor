{
 "cells": [
  {
   "cell_type": "markdown",
   "id": "8d6e4491-5b54-4854-a441-8369f2d37e36",
   "metadata": {
    "tags": []
   },
   "source": [
    "## Inferential Visualizations\n",
    "- Look at feature loadings.\n",
    "- Look at how accurate your predictions are.\n",
    "- Is there a pattern to your errors? Consider reworking your model to address this."
   ]
  },
  {
   "cell_type": "code",
   "execution_count": 1,
   "id": "6e803465-27c9-40dd-b103-0d7b8e29f6d1",
   "metadata": {},
   "outputs": [],
   "source": [
    "import seaborn as sns\n",
    "import pandas as pd\n",
    "import numpy as np\n",
    "import matplotlib.pyplot as plt\n",
    "\n",
    "from sklearn.metrics import mean_squared_error\n",
    "from sklearn.preprocessing import StandardScaler, OneHotEncoder, OrdinalEncoder\n",
    "from sklearn.model_selection import train_test_split, GridSearchCV\n",
    "from sklearn.linear_model import LinearRegression, LassoCV, Lasso, Ridge, \n",
    "\n",
    "from sklearn.impute import SimpleImputer\n",
    "from sklearn.pipeline import Pipeline\n",
    "from sklearn.compose import make_column_transformer, make_column_selector, ColumnTransformer"
   ]
  },
  {
   "cell_type": "code",
   "execution_count": 2,
   "id": "bd645358-0d53-4427-b4f3-ccf9cdb027f5",
   "metadata": {
    "jp-MarkdownHeadingCollapsed": true,
    "tags": []
   },
   "outputs": [],
   "source": [
    "train = pd.read_csv('../data/train_clean2.csv')\n",
    "test = pd.read_csv('../data/test_clean2.csv')"
   ]
  },
  {
   "cell_type": "code",
   "execution_count": 3,
   "id": "31d4a084-1016-4e25-8a0a-34bebeaec269",
   "metadata": {},
   "outputs": [],
   "source": [
    "data = train[['lot_area', \n",
    "           'gr_liv_area', \n",
    "           'total_bsmt_sf',  \n",
    "           'open_porch_sf',  \n",
    "           'bedroom_abvgr', \n",
    "           'full_bath', \n",
    "           'half_bath', \n",
    "           'bsmt_full_bath', \n",
    "           'bsmt_half_bath', \n",
    "           'totrms_abvgrd', \n",
    "           'kitchen_abvgr', \n",
    "           'garage_cars', \n",
    "           'year_built', \n",
    "           'year_remod/add', \n",
    "           'mo_sold', \n",
    "           'yr_sold', \n",
    "           'exter_cond', \n",
    "           'bsmt_cond', \n",
    "           'central_air', \n",
    "           'heating', \n",
    "           'overall_cond', \n",
    "           'overall_qual',\n",
    "              'neighborhood']]\n"
   ]
  },
  {
   "cell_type": "code",
   "execution_count": 4,
   "id": "38fda4e1-8dab-4b70-a949-0c32fad8dc78",
   "metadata": {},
   "outputs": [],
   "source": [
    "df = pd.DataFrame(data)"
   ]
  },
  {
   "cell_type": "code",
   "execution_count": 5,
   "id": "28944a9f-1027-4d6f-802b-15ad2642f234",
   "metadata": {},
   "outputs": [
    {
     "name": "stdout",
     "output_type": "stream",
     "text": [
      "<class 'pandas.core.frame.DataFrame'>\n",
      "RangeIndex: 2049 entries, 0 to 2048\n",
      "Data columns (total 23 columns):\n",
      " #   Column          Non-Null Count  Dtype  \n",
      "---  ------          --------------  -----  \n",
      " 0   lot_area        2049 non-null   int64  \n",
      " 1   gr_liv_area     2049 non-null   int64  \n",
      " 2   total_bsmt_sf   2049 non-null   float64\n",
      " 3   open_porch_sf   2049 non-null   int64  \n",
      " 4   bedroom_abvgr   2049 non-null   int64  \n",
      " 5   full_bath       2049 non-null   int64  \n",
      " 6   half_bath       2049 non-null   int64  \n",
      " 7   bsmt_full_bath  2049 non-null   float64\n",
      " 8   bsmt_half_bath  2049 non-null   float64\n",
      " 9   totrms_abvgrd   2049 non-null   int64  \n",
      " 10  kitchen_abvgr   2049 non-null   int64  \n",
      " 11  garage_cars     2049 non-null   float64\n",
      " 12  year_built      2049 non-null   int64  \n",
      " 13  year_remod/add  2049 non-null   int64  \n",
      " 14  mo_sold         2049 non-null   int64  \n",
      " 15  yr_sold         2049 non-null   int64  \n",
      " 16  exter_cond      2049 non-null   object \n",
      " 17  bsmt_cond       1994 non-null   object \n",
      " 18  central_air     2049 non-null   object \n",
      " 19  heating         2049 non-null   object \n",
      " 20  overall_cond    2049 non-null   int64  \n",
      " 21  overall_qual    2049 non-null   int64  \n",
      " 22  neighborhood    2049 non-null   object \n",
      "dtypes: float64(4), int64(14), object(5)\n",
      "memory usage: 368.3+ KB\n"
     ]
    }
   ],
   "source": [
    "df.info()"
   ]
  },
  {
   "cell_type": "markdown",
   "id": "d517be8c-db34-4e86-b145-08f75b0c4ff4",
   "metadata": {
    "tags": []
   },
   "source": [
    "## More Cleaning"
   ]
  },
  {
   "cell_type": "code",
   "execution_count": 6,
   "id": "01239fea-8a09-42b9-8fb3-5939829045fb",
   "metadata": {},
   "outputs": [],
   "source": [
    "df.central_air = df.central_air.apply(lambda x: 1 if x == 'Y' else 0)"
   ]
  },
  {
   "cell_type": "code",
   "execution_count": 7,
   "id": "0d53b298-3925-40d4-bcfa-0aa9f94892f7",
   "metadata": {},
   "outputs": [],
   "source": [
    "train[['year_remod/add', 'year_built', 'yr_sold']] = train[['year_remod/add', 'year_built', 'yr_sold']].apply(lambda x: 2010 - x)"
   ]
  },
  {
   "cell_type": "code",
   "execution_count": 8,
   "id": "5c3d1b79-7fc7-49f2-b5da-d228c16e83b8",
   "metadata": {},
   "outputs": [],
   "source": [
    "def cat_extercond(a_string):\n",
    "    cats = {'Ex':5, 'Gd':4, 'TA':3, 'Fa':2, 'Po':1}\n",
    "    return cats[a_string]\n",
    "\n",
    "df.exter_cond = df.exter_cond.apply(cat_extercond)"
   ]
  },
  {
   "cell_type": "code",
   "execution_count": 16,
   "id": "f5ba9211-6da7-4718-916f-960b92fbfe75",
   "metadata": {},
   "outputs": [],
   "source": [
    "df.bsmt_cond = df.bsmt_cond.fillna('NA')"
   ]
  },
  {
   "cell_type": "code",
   "execution_count": 17,
   "id": "84dcf176-3530-43fc-a5d5-4084aa61db13",
   "metadata": {},
   "outputs": [],
   "source": [
    "def cat_bsmtcond(a_string):\n",
    "    cats = {'Ex':5, 'Gd':4, 'TA':3, 'Fa':2, 'Po':1, 'NA':0}\n",
    "    return cats[a_string]\n",
    "\n",
    "df.bsmt_cond = df.bsmt_cond.apply(cat_bsmtcond)"
   ]
  },
  {
   "cell_type": "code",
   "execution_count": 19,
   "id": "e9ce4712-de5e-46d4-88c1-1a62bd08a14b",
   "metadata": {},
   "outputs": [],
   "source": [
    "def cat_heat(a_string):\n",
    "    cats = {'Floor':6, 'GasA':5, 'GasW':4, 'Grav':3, 'OthW':1, 'Wall':0}\n",
    "    return cats[a_string]\n",
    "\n",
    "df.heating = df.heating.apply(cat_heat)"
   ]
  },
  {
   "cell_type": "code",
   "execution_count": 21,
   "id": "20cbfa93-56cd-48f0-a8b7-e5fc4e6f7249",
   "metadata": {},
   "outputs": [
    {
     "data": {
      "text/plain": [
       "lot_area            int64\n",
       "gr_liv_area         int64\n",
       "total_bsmt_sf     float64\n",
       "open_porch_sf       int64\n",
       "bedroom_abvgr       int64\n",
       "full_bath           int64\n",
       "half_bath           int64\n",
       "bsmt_full_bath    float64\n",
       "bsmt_half_bath    float64\n",
       "totrms_abvgrd       int64\n",
       "kitchen_abvgr       int64\n",
       "garage_cars       float64\n",
       "year_built          int64\n",
       "year_remod/add      int64\n",
       "mo_sold             int64\n",
       "yr_sold             int64\n",
       "exter_cond          int64\n",
       "bsmt_cond           int64\n",
       "central_air         int64\n",
       "heating             int64\n",
       "overall_cond        int64\n",
       "overall_qual        int64\n",
       "neighborhood       object\n",
       "dtype: object"
      ]
     },
     "execution_count": 21,
     "metadata": {},
     "output_type": "execute_result"
    }
   ],
   "source": [
    "df.dtypes"
   ]
  },
  {
   "cell_type": "code",
   "execution_count": 62,
   "id": "cb19e99b-129b-4ea9-ae2d-96dc6439cafd",
   "metadata": {},
   "outputs": [],
   "source": [
    "df = pd.get_dummies(df, columns=['neighborhood'])"
   ]
  },
  {
   "cell_type": "raw",
   "id": "22aaeeac-79d6-4433-ba6b-d9c3ca8cf28c",
   "metadata": {},
   "source": [
    "preprocessors = ColumnTransformer(transformers=[(\"ohe\", ohe, ['neighborhood']), (\"ss\", StandardScaler(), df.columns)])"
   ]
  },
  {
   "cell_type": "markdown",
   "id": "fb6626d1-146c-478c-98d5-07e88b94c708",
   "metadata": {
    "tags": []
   },
   "source": [
    "## Model"
   ]
  },
  {
   "cell_type": "code",
   "execution_count": 74,
   "id": "2f63f295-0219-422d-8555-299e9c36d92e",
   "metadata": {},
   "outputs": [],
   "source": [
    "from sklearn.preprocessing import PolynomialFeatures\n",
    "from sklearn.feature_selection import RFE"
   ]
  },
  {
   "cell_type": "code",
   "execution_count": 81,
   "id": "c3a9ea4b-ed5b-4548-b2d7-5dc3b2245500",
   "metadata": {},
   "outputs": [],
   "source": [
    "pipe = Pipeline(steps=[(\"ss\", StandardScaler()), \n",
    "                       (\"ridge\", Ridge())])"
   ]
  },
  {
   "cell_type": "code",
   "execution_count": 82,
   "id": "376cf39a-5659-4857-ae8c-6fb0a91c5106",
   "metadata": {},
   "outputs": [
    {
     "data": {
      "text/html": [
       "<style>#sk-container-id-10 {color: black;background-color: white;}#sk-container-id-10 pre{padding: 0;}#sk-container-id-10 div.sk-toggleable {background-color: white;}#sk-container-id-10 label.sk-toggleable__label {cursor: pointer;display: block;width: 100%;margin-bottom: 0;padding: 0.3em;box-sizing: border-box;text-align: center;}#sk-container-id-10 label.sk-toggleable__label-arrow:before {content: \"▸\";float: left;margin-right: 0.25em;color: #696969;}#sk-container-id-10 label.sk-toggleable__label-arrow:hover:before {color: black;}#sk-container-id-10 div.sk-estimator:hover label.sk-toggleable__label-arrow:before {color: black;}#sk-container-id-10 div.sk-toggleable__content {max-height: 0;max-width: 0;overflow: hidden;text-align: left;background-color: #f0f8ff;}#sk-container-id-10 div.sk-toggleable__content pre {margin: 0.2em;color: black;border-radius: 0.25em;background-color: #f0f8ff;}#sk-container-id-10 input.sk-toggleable__control:checked~div.sk-toggleable__content {max-height: 200px;max-width: 100%;overflow: auto;}#sk-container-id-10 input.sk-toggleable__control:checked~label.sk-toggleable__label-arrow:before {content: \"▾\";}#sk-container-id-10 div.sk-estimator input.sk-toggleable__control:checked~label.sk-toggleable__label {background-color: #d4ebff;}#sk-container-id-10 div.sk-label input.sk-toggleable__control:checked~label.sk-toggleable__label {background-color: #d4ebff;}#sk-container-id-10 input.sk-hidden--visually {border: 0;clip: rect(1px 1px 1px 1px);clip: rect(1px, 1px, 1px, 1px);height: 1px;margin: -1px;overflow: hidden;padding: 0;position: absolute;width: 1px;}#sk-container-id-10 div.sk-estimator {font-family: monospace;background-color: #f0f8ff;border: 1px dotted black;border-radius: 0.25em;box-sizing: border-box;margin-bottom: 0.5em;}#sk-container-id-10 div.sk-estimator:hover {background-color: #d4ebff;}#sk-container-id-10 div.sk-parallel-item::after {content: \"\";width: 100%;border-bottom: 1px solid gray;flex-grow: 1;}#sk-container-id-10 div.sk-label:hover label.sk-toggleable__label {background-color: #d4ebff;}#sk-container-id-10 div.sk-serial::before {content: \"\";position: absolute;border-left: 1px solid gray;box-sizing: border-box;top: 0;bottom: 0;left: 50%;z-index: 0;}#sk-container-id-10 div.sk-serial {display: flex;flex-direction: column;align-items: center;background-color: white;padding-right: 0.2em;padding-left: 0.2em;position: relative;}#sk-container-id-10 div.sk-item {position: relative;z-index: 1;}#sk-container-id-10 div.sk-parallel {display: flex;align-items: stretch;justify-content: center;background-color: white;position: relative;}#sk-container-id-10 div.sk-item::before, #sk-container-id-10 div.sk-parallel-item::before {content: \"\";position: absolute;border-left: 1px solid gray;box-sizing: border-box;top: 0;bottom: 0;left: 50%;z-index: -1;}#sk-container-id-10 div.sk-parallel-item {display: flex;flex-direction: column;z-index: 1;position: relative;background-color: white;}#sk-container-id-10 div.sk-parallel-item:first-child::after {align-self: flex-end;width: 50%;}#sk-container-id-10 div.sk-parallel-item:last-child::after {align-self: flex-start;width: 50%;}#sk-container-id-10 div.sk-parallel-item:only-child::after {width: 0;}#sk-container-id-10 div.sk-dashed-wrapped {border: 1px dashed gray;margin: 0 0.4em 0.5em 0.4em;box-sizing: border-box;padding-bottom: 0.4em;background-color: white;}#sk-container-id-10 div.sk-label label {font-family: monospace;font-weight: bold;display: inline-block;line-height: 1.2em;}#sk-container-id-10 div.sk-label-container {text-align: center;}#sk-container-id-10 div.sk-container {/* jupyter's `normalize.less` sets `[hidden] { display: none; }` but bootstrap.min.css set `[hidden] { display: none !important; }` so we also need the `!important` here to be able to override the default hidden behavior on the sphinx rendered scikit-learn.org. See: https://github.com/scikit-learn/scikit-learn/issues/21755 */display: inline-block !important;position: relative;}#sk-container-id-10 div.sk-text-repr-fallback {display: none;}</style><div id=\"sk-container-id-10\" class=\"sk-top-container\"><div class=\"sk-text-repr-fallback\"><pre>Pipeline(steps=[(&#x27;ss&#x27;, StandardScaler()), (&#x27;ridge&#x27;, Ridge())])</pre><b>In a Jupyter environment, please rerun this cell to show the HTML representation or trust the notebook. <br />On GitHub, the HTML representation is unable to render, please try loading this page with nbviewer.org.</b></div><div class=\"sk-container\" hidden><div class=\"sk-item sk-dashed-wrapped\"><div class=\"sk-label-container\"><div class=\"sk-label sk-toggleable\"><input class=\"sk-toggleable__control sk-hidden--visually\" id=\"sk-estimator-id-44\" type=\"checkbox\" ><label for=\"sk-estimator-id-44\" class=\"sk-toggleable__label sk-toggleable__label-arrow\">Pipeline</label><div class=\"sk-toggleable__content\"><pre>Pipeline(steps=[(&#x27;ss&#x27;, StandardScaler()), (&#x27;ridge&#x27;, Ridge())])</pre></div></div></div><div class=\"sk-serial\"><div class=\"sk-item\"><div class=\"sk-estimator sk-toggleable\"><input class=\"sk-toggleable__control sk-hidden--visually\" id=\"sk-estimator-id-45\" type=\"checkbox\" ><label for=\"sk-estimator-id-45\" class=\"sk-toggleable__label sk-toggleable__label-arrow\">StandardScaler</label><div class=\"sk-toggleable__content\"><pre>StandardScaler()</pre></div></div></div><div class=\"sk-item\"><div class=\"sk-estimator sk-toggleable\"><input class=\"sk-toggleable__control sk-hidden--visually\" id=\"sk-estimator-id-46\" type=\"checkbox\" ><label for=\"sk-estimator-id-46\" class=\"sk-toggleable__label sk-toggleable__label-arrow\">Ridge</label><div class=\"sk-toggleable__content\"><pre>Ridge()</pre></div></div></div></div></div></div></div>"
      ],
      "text/plain": [
       "Pipeline(steps=[('ss', StandardScaler()), ('ridge', Ridge())])"
      ]
     },
     "execution_count": 82,
     "metadata": {},
     "output_type": "execute_result"
    }
   ],
   "source": [
    "pipe"
   ]
  },
  {
   "cell_type": "code",
   "execution_count": 83,
   "id": "67c40184-9fa0-4b10-8fac-84f3a7001991",
   "metadata": {},
   "outputs": [],
   "source": [
    "X = df\n",
    "y = train['saleprice']"
   ]
  },
  {
   "cell_type": "code",
   "execution_count": 84,
   "id": "8d4e318f-7165-40db-937e-06df661c6728",
   "metadata": {},
   "outputs": [],
   "source": [
    "X_train, X_test, y_train, y_test = train_test_split(X, y, test_size=0.33, random_state=42)"
   ]
  },
  {
   "cell_type": "code",
   "execution_count": 86,
   "id": "a93a265d-d271-42ed-bf75-5127527b3b9b",
   "metadata": {},
   "outputs": [
    {
     "data": {
      "text/html": [
       "<style>#sk-container-id-11 {color: black;background-color: white;}#sk-container-id-11 pre{padding: 0;}#sk-container-id-11 div.sk-toggleable {background-color: white;}#sk-container-id-11 label.sk-toggleable__label {cursor: pointer;display: block;width: 100%;margin-bottom: 0;padding: 0.3em;box-sizing: border-box;text-align: center;}#sk-container-id-11 label.sk-toggleable__label-arrow:before {content: \"▸\";float: left;margin-right: 0.25em;color: #696969;}#sk-container-id-11 label.sk-toggleable__label-arrow:hover:before {color: black;}#sk-container-id-11 div.sk-estimator:hover label.sk-toggleable__label-arrow:before {color: black;}#sk-container-id-11 div.sk-toggleable__content {max-height: 0;max-width: 0;overflow: hidden;text-align: left;background-color: #f0f8ff;}#sk-container-id-11 div.sk-toggleable__content pre {margin: 0.2em;color: black;border-radius: 0.25em;background-color: #f0f8ff;}#sk-container-id-11 input.sk-toggleable__control:checked~div.sk-toggleable__content {max-height: 200px;max-width: 100%;overflow: auto;}#sk-container-id-11 input.sk-toggleable__control:checked~label.sk-toggleable__label-arrow:before {content: \"▾\";}#sk-container-id-11 div.sk-estimator input.sk-toggleable__control:checked~label.sk-toggleable__label {background-color: #d4ebff;}#sk-container-id-11 div.sk-label input.sk-toggleable__control:checked~label.sk-toggleable__label {background-color: #d4ebff;}#sk-container-id-11 input.sk-hidden--visually {border: 0;clip: rect(1px 1px 1px 1px);clip: rect(1px, 1px, 1px, 1px);height: 1px;margin: -1px;overflow: hidden;padding: 0;position: absolute;width: 1px;}#sk-container-id-11 div.sk-estimator {font-family: monospace;background-color: #f0f8ff;border: 1px dotted black;border-radius: 0.25em;box-sizing: border-box;margin-bottom: 0.5em;}#sk-container-id-11 div.sk-estimator:hover {background-color: #d4ebff;}#sk-container-id-11 div.sk-parallel-item::after {content: \"\";width: 100%;border-bottom: 1px solid gray;flex-grow: 1;}#sk-container-id-11 div.sk-label:hover label.sk-toggleable__label {background-color: #d4ebff;}#sk-container-id-11 div.sk-serial::before {content: \"\";position: absolute;border-left: 1px solid gray;box-sizing: border-box;top: 0;bottom: 0;left: 50%;z-index: 0;}#sk-container-id-11 div.sk-serial {display: flex;flex-direction: column;align-items: center;background-color: white;padding-right: 0.2em;padding-left: 0.2em;position: relative;}#sk-container-id-11 div.sk-item {position: relative;z-index: 1;}#sk-container-id-11 div.sk-parallel {display: flex;align-items: stretch;justify-content: center;background-color: white;position: relative;}#sk-container-id-11 div.sk-item::before, #sk-container-id-11 div.sk-parallel-item::before {content: \"\";position: absolute;border-left: 1px solid gray;box-sizing: border-box;top: 0;bottom: 0;left: 50%;z-index: -1;}#sk-container-id-11 div.sk-parallel-item {display: flex;flex-direction: column;z-index: 1;position: relative;background-color: white;}#sk-container-id-11 div.sk-parallel-item:first-child::after {align-self: flex-end;width: 50%;}#sk-container-id-11 div.sk-parallel-item:last-child::after {align-self: flex-start;width: 50%;}#sk-container-id-11 div.sk-parallel-item:only-child::after {width: 0;}#sk-container-id-11 div.sk-dashed-wrapped {border: 1px dashed gray;margin: 0 0.4em 0.5em 0.4em;box-sizing: border-box;padding-bottom: 0.4em;background-color: white;}#sk-container-id-11 div.sk-label label {font-family: monospace;font-weight: bold;display: inline-block;line-height: 1.2em;}#sk-container-id-11 div.sk-label-container {text-align: center;}#sk-container-id-11 div.sk-container {/* jupyter's `normalize.less` sets `[hidden] { display: none; }` but bootstrap.min.css set `[hidden] { display: none !important; }` so we also need the `!important` here to be able to override the default hidden behavior on the sphinx rendered scikit-learn.org. See: https://github.com/scikit-learn/scikit-learn/issues/21755 */display: inline-block !important;position: relative;}#sk-container-id-11 div.sk-text-repr-fallback {display: none;}</style><div id=\"sk-container-id-11\" class=\"sk-top-container\"><div class=\"sk-text-repr-fallback\"><pre>Pipeline(steps=[(&#x27;ss&#x27;, StandardScaler()), (&#x27;ridge&#x27;, Ridge())])</pre><b>In a Jupyter environment, please rerun this cell to show the HTML representation or trust the notebook. <br />On GitHub, the HTML representation is unable to render, please try loading this page with nbviewer.org.</b></div><div class=\"sk-container\" hidden><div class=\"sk-item sk-dashed-wrapped\"><div class=\"sk-label-container\"><div class=\"sk-label sk-toggleable\"><input class=\"sk-toggleable__control sk-hidden--visually\" id=\"sk-estimator-id-47\" type=\"checkbox\" ><label for=\"sk-estimator-id-47\" class=\"sk-toggleable__label sk-toggleable__label-arrow\">Pipeline</label><div class=\"sk-toggleable__content\"><pre>Pipeline(steps=[(&#x27;ss&#x27;, StandardScaler()), (&#x27;ridge&#x27;, Ridge())])</pre></div></div></div><div class=\"sk-serial\"><div class=\"sk-item\"><div class=\"sk-estimator sk-toggleable\"><input class=\"sk-toggleable__control sk-hidden--visually\" id=\"sk-estimator-id-48\" type=\"checkbox\" ><label for=\"sk-estimator-id-48\" class=\"sk-toggleable__label sk-toggleable__label-arrow\">StandardScaler</label><div class=\"sk-toggleable__content\"><pre>StandardScaler()</pre></div></div></div><div class=\"sk-item\"><div class=\"sk-estimator sk-toggleable\"><input class=\"sk-toggleable__control sk-hidden--visually\" id=\"sk-estimator-id-49\" type=\"checkbox\" ><label for=\"sk-estimator-id-49\" class=\"sk-toggleable__label sk-toggleable__label-arrow\">Ridge</label><div class=\"sk-toggleable__content\"><pre>Ridge()</pre></div></div></div></div></div></div></div>"
      ],
      "text/plain": [
       "Pipeline(steps=[('ss', StandardScaler()), ('ridge', Ridge())])"
      ]
     },
     "execution_count": 86,
     "metadata": {},
     "output_type": "execute_result"
    }
   ],
   "source": [
    "pipe.fit(X_train, y_train)"
   ]
  },
  {
   "cell_type": "code",
   "execution_count": 90,
   "id": "6eed360d-efe0-4c9f-99e7-55a051b2f2d1",
   "metadata": {},
   "outputs": [
    {
     "data": {
      "text/html": [
       "<style>#sk-container-id-12 {color: black;background-color: white;}#sk-container-id-12 pre{padding: 0;}#sk-container-id-12 div.sk-toggleable {background-color: white;}#sk-container-id-12 label.sk-toggleable__label {cursor: pointer;display: block;width: 100%;margin-bottom: 0;padding: 0.3em;box-sizing: border-box;text-align: center;}#sk-container-id-12 label.sk-toggleable__label-arrow:before {content: \"▸\";float: left;margin-right: 0.25em;color: #696969;}#sk-container-id-12 label.sk-toggleable__label-arrow:hover:before {color: black;}#sk-container-id-12 div.sk-estimator:hover label.sk-toggleable__label-arrow:before {color: black;}#sk-container-id-12 div.sk-toggleable__content {max-height: 0;max-width: 0;overflow: hidden;text-align: left;background-color: #f0f8ff;}#sk-container-id-12 div.sk-toggleable__content pre {margin: 0.2em;color: black;border-radius: 0.25em;background-color: #f0f8ff;}#sk-container-id-12 input.sk-toggleable__control:checked~div.sk-toggleable__content {max-height: 200px;max-width: 100%;overflow: auto;}#sk-container-id-12 input.sk-toggleable__control:checked~label.sk-toggleable__label-arrow:before {content: \"▾\";}#sk-container-id-12 div.sk-estimator input.sk-toggleable__control:checked~label.sk-toggleable__label {background-color: #d4ebff;}#sk-container-id-12 div.sk-label input.sk-toggleable__control:checked~label.sk-toggleable__label {background-color: #d4ebff;}#sk-container-id-12 input.sk-hidden--visually {border: 0;clip: rect(1px 1px 1px 1px);clip: rect(1px, 1px, 1px, 1px);height: 1px;margin: -1px;overflow: hidden;padding: 0;position: absolute;width: 1px;}#sk-container-id-12 div.sk-estimator {font-family: monospace;background-color: #f0f8ff;border: 1px dotted black;border-radius: 0.25em;box-sizing: border-box;margin-bottom: 0.5em;}#sk-container-id-12 div.sk-estimator:hover {background-color: #d4ebff;}#sk-container-id-12 div.sk-parallel-item::after {content: \"\";width: 100%;border-bottom: 1px solid gray;flex-grow: 1;}#sk-container-id-12 div.sk-label:hover label.sk-toggleable__label {background-color: #d4ebff;}#sk-container-id-12 div.sk-serial::before {content: \"\";position: absolute;border-left: 1px solid gray;box-sizing: border-box;top: 0;bottom: 0;left: 50%;z-index: 0;}#sk-container-id-12 div.sk-serial {display: flex;flex-direction: column;align-items: center;background-color: white;padding-right: 0.2em;padding-left: 0.2em;position: relative;}#sk-container-id-12 div.sk-item {position: relative;z-index: 1;}#sk-container-id-12 div.sk-parallel {display: flex;align-items: stretch;justify-content: center;background-color: white;position: relative;}#sk-container-id-12 div.sk-item::before, #sk-container-id-12 div.sk-parallel-item::before {content: \"\";position: absolute;border-left: 1px solid gray;box-sizing: border-box;top: 0;bottom: 0;left: 50%;z-index: -1;}#sk-container-id-12 div.sk-parallel-item {display: flex;flex-direction: column;z-index: 1;position: relative;background-color: white;}#sk-container-id-12 div.sk-parallel-item:first-child::after {align-self: flex-end;width: 50%;}#sk-container-id-12 div.sk-parallel-item:last-child::after {align-self: flex-start;width: 50%;}#sk-container-id-12 div.sk-parallel-item:only-child::after {width: 0;}#sk-container-id-12 div.sk-dashed-wrapped {border: 1px dashed gray;margin: 0 0.4em 0.5em 0.4em;box-sizing: border-box;padding-bottom: 0.4em;background-color: white;}#sk-container-id-12 div.sk-label label {font-family: monospace;font-weight: bold;display: inline-block;line-height: 1.2em;}#sk-container-id-12 div.sk-label-container {text-align: center;}#sk-container-id-12 div.sk-container {/* jupyter's `normalize.less` sets `[hidden] { display: none; }` but bootstrap.min.css set `[hidden] { display: none !important; }` so we also need the `!important` here to be able to override the default hidden behavior on the sphinx rendered scikit-learn.org. See: https://github.com/scikit-learn/scikit-learn/issues/21755 */display: inline-block !important;position: relative;}#sk-container-id-12 div.sk-text-repr-fallback {display: none;}</style><div id=\"sk-container-id-12\" class=\"sk-top-container\"><div class=\"sk-text-repr-fallback\"><pre>GridSearchCV(estimator=Ridge(), n_jobs=-1,\n",
       "             param_grid={&#x27;alpha&#x27;: array([1.00000000e+00, 1.20679264e+00, 1.45634848e+00, 1.75751062e+00,\n",
       "       2.12095089e+00, 2.55954792e+00, 3.08884360e+00, 3.72759372e+00,\n",
       "       4.49843267e+00, 5.42867544e+00, 6.55128557e+00, 7.90604321e+00,\n",
       "       9.54095476e+00, 1.15139540e+01, 1.38949549e+01, 1.67683294e+01,\n",
       "       2.02358965e+01, 2.44205309e+01, 2.94705170e+...\n",
       "       9.10298178e+01, 1.09854114e+02, 1.32571137e+02, 1.59985872e+02,\n",
       "       1.93069773e+02, 2.32995181e+02, 2.81176870e+02, 3.39322177e+02,\n",
       "       4.09491506e+02, 4.94171336e+02, 5.96362332e+02, 7.19685673e+02,\n",
       "       8.68511374e+02, 1.04811313e+03, 1.26485522e+03, 1.52641797e+03,\n",
       "       1.84206997e+03, 2.22299648e+03, 2.68269580e+03, 3.23745754e+03,\n",
       "       3.90693994e+03, 4.71486636e+03, 5.68986603e+03, 6.86648845e+03,\n",
       "       8.28642773e+03, 1.00000000e+04])})</pre><b>In a Jupyter environment, please rerun this cell to show the HTML representation or trust the notebook. <br />On GitHub, the HTML representation is unable to render, please try loading this page with nbviewer.org.</b></div><div class=\"sk-container\" hidden><div class=\"sk-item sk-dashed-wrapped\"><div class=\"sk-label-container\"><div class=\"sk-label sk-toggleable\"><input class=\"sk-toggleable__control sk-hidden--visually\" id=\"sk-estimator-id-50\" type=\"checkbox\" ><label for=\"sk-estimator-id-50\" class=\"sk-toggleable__label sk-toggleable__label-arrow\">GridSearchCV</label><div class=\"sk-toggleable__content\"><pre>GridSearchCV(estimator=Ridge(), n_jobs=-1,\n",
       "             param_grid={&#x27;alpha&#x27;: array([1.00000000e+00, 1.20679264e+00, 1.45634848e+00, 1.75751062e+00,\n",
       "       2.12095089e+00, 2.55954792e+00, 3.08884360e+00, 3.72759372e+00,\n",
       "       4.49843267e+00, 5.42867544e+00, 6.55128557e+00, 7.90604321e+00,\n",
       "       9.54095476e+00, 1.15139540e+01, 1.38949549e+01, 1.67683294e+01,\n",
       "       2.02358965e+01, 2.44205309e+01, 2.94705170e+...\n",
       "       9.10298178e+01, 1.09854114e+02, 1.32571137e+02, 1.59985872e+02,\n",
       "       1.93069773e+02, 2.32995181e+02, 2.81176870e+02, 3.39322177e+02,\n",
       "       4.09491506e+02, 4.94171336e+02, 5.96362332e+02, 7.19685673e+02,\n",
       "       8.68511374e+02, 1.04811313e+03, 1.26485522e+03, 1.52641797e+03,\n",
       "       1.84206997e+03, 2.22299648e+03, 2.68269580e+03, 3.23745754e+03,\n",
       "       3.90693994e+03, 4.71486636e+03, 5.68986603e+03, 6.86648845e+03,\n",
       "       8.28642773e+03, 1.00000000e+04])})</pre></div></div></div><div class=\"sk-parallel\"><div class=\"sk-parallel-item\"><div class=\"sk-item\"><div class=\"sk-label-container\"><div class=\"sk-label sk-toggleable\"><input class=\"sk-toggleable__control sk-hidden--visually\" id=\"sk-estimator-id-51\" type=\"checkbox\" ><label for=\"sk-estimator-id-51\" class=\"sk-toggleable__label sk-toggleable__label-arrow\">estimator: Ridge</label><div class=\"sk-toggleable__content\"><pre>Ridge()</pre></div></div></div><div class=\"sk-serial\"><div class=\"sk-item\"><div class=\"sk-estimator sk-toggleable\"><input class=\"sk-toggleable__control sk-hidden--visually\" id=\"sk-estimator-id-52\" type=\"checkbox\" ><label for=\"sk-estimator-id-52\" class=\"sk-toggleable__label sk-toggleable__label-arrow\">Ridge</label><div class=\"sk-toggleable__content\"><pre>Ridge()</pre></div></div></div></div></div></div></div></div></div></div>"
      ],
      "text/plain": [
       "GridSearchCV(estimator=Ridge(), n_jobs=-1,\n",
       "             param_grid={'alpha': array([1.00000000e+00, 1.20679264e+00, 1.45634848e+00, 1.75751062e+00,\n",
       "       2.12095089e+00, 2.55954792e+00, 3.08884360e+00, 3.72759372e+00,\n",
       "       4.49843267e+00, 5.42867544e+00, 6.55128557e+00, 7.90604321e+00,\n",
       "       9.54095476e+00, 1.15139540e+01, 1.38949549e+01, 1.67683294e+01,\n",
       "       2.02358965e+01, 2.44205309e+01, 2.94705170e+...\n",
       "       9.10298178e+01, 1.09854114e+02, 1.32571137e+02, 1.59985872e+02,\n",
       "       1.93069773e+02, 2.32995181e+02, 2.81176870e+02, 3.39322177e+02,\n",
       "       4.09491506e+02, 4.94171336e+02, 5.96362332e+02, 7.19685673e+02,\n",
       "       8.68511374e+02, 1.04811313e+03, 1.26485522e+03, 1.52641797e+03,\n",
       "       1.84206997e+03, 2.22299648e+03, 2.68269580e+03, 3.23745754e+03,\n",
       "       3.90693994e+03, 4.71486636e+03, 5.68986603e+03, 6.86648845e+03,\n",
       "       8.28642773e+03, 1.00000000e+04])})"
      ]
     },
     "execution_count": 90,
     "metadata": {},
     "output_type": "execute_result"
    }
   ],
   "source": [
    "params = {'alpha': np.logspace(0,4,50)}\n",
    "ridge_grid = GridSearchCV(pipe.named_steps[\"ridge\"], param_grid=params, n_jobs=-1)\n",
    "ridge_grid.fit(X_train,y_train)"
   ]
  },
  {
   "cell_type": "code",
   "execution_count": 91,
   "id": "4c08b1ef-e701-4008-ba7b-69419c2c8d98",
   "metadata": {},
   "outputs": [],
   "source": [
    "yhat = ridge_grid.predict(X_test)"
   ]
  },
  {
   "cell_type": "code",
   "execution_count": 92,
   "id": "d06190fc-2893-451c-8f83-0c6a7ce979ac",
   "metadata": {},
   "outputs": [
    {
     "data": {
      "text/plain": [
       "28401.548799451288"
      ]
     },
     "execution_count": 92,
     "metadata": {},
     "output_type": "execute_result"
    }
   ],
   "source": [
    "mean_squared_error(y_test, yhat, squared=False)"
   ]
  },
  {
   "cell_type": "code",
   "execution_count": 93,
   "id": "a7c4ed5d-a085-44cb-8c1a-22eccc72e007",
   "metadata": {},
   "outputs": [
    {
     "data": {
      "text/plain": [
       "0.8755206293610706"
      ]
     },
     "execution_count": 93,
     "metadata": {},
     "output_type": "execute_result"
    }
   ],
   "source": [
    "ridge_grid.score(X_test, y_test)"
   ]
  },
  {
   "cell_type": "markdown",
   "id": "120681ee-8c46-4d24-9088-bb9cd60e9c7a",
   "metadata": {},
   "source": [
    "## Visualizations"
   ]
  },
  {
   "cell_type": "code",
   "execution_count": 337,
   "id": "eefcf2cb-0a0a-41d8-b19c-97957c726c23",
   "metadata": {},
   "outputs": [],
   "source": [
    "yhats = list(yhat)"
   ]
  },
  {
   "cell_type": "code",
   "execution_count": 350,
   "id": "d1cf3c27-cff7-4446-9477-86d1404ecd9b",
   "metadata": {},
   "outputs": [],
   "source": [
    "preds = pd.DataFrame(yhats)\n",
    "preds['value'] = \"prediction\""
   ]
  },
  {
   "cell_type": "code",
   "execution_count": 344,
   "id": "f7ff80ee-bed1-4896-b1b5-a81ac1d3acde",
   "metadata": {},
   "outputs": [
    {
     "data": {
      "text/html": [
       "<div>\n",
       "<style scoped>\n",
       "    .dataframe tbody tr th:only-of-type {\n",
       "        vertical-align: middle;\n",
       "    }\n",
       "\n",
       "    .dataframe tbody tr th {\n",
       "        vertical-align: top;\n",
       "    }\n",
       "\n",
       "    .dataframe thead th {\n",
       "        text-align: right;\n",
       "    }\n",
       "</style>\n",
       "<table border=\"1\" class=\"dataframe\">\n",
       "  <thead>\n",
       "    <tr style=\"text-align: right;\">\n",
       "      <th></th>\n",
       "      <th>0</th>\n",
       "      <th>value</th>\n",
       "    </tr>\n",
       "  </thead>\n",
       "  <tbody>\n",
       "    <tr>\n",
       "      <th>0</th>\n",
       "      <td>105911.941203</td>\n",
       "      <td>prediction</td>\n",
       "    </tr>\n",
       "    <tr>\n",
       "      <th>1</th>\n",
       "      <td>379432.800714</td>\n",
       "      <td>prediction</td>\n",
       "    </tr>\n",
       "    <tr>\n",
       "      <th>2</th>\n",
       "      <td>118365.400207</td>\n",
       "      <td>prediction</td>\n",
       "    </tr>\n",
       "    <tr>\n",
       "      <th>3</th>\n",
       "      <td>132616.915397</td>\n",
       "      <td>prediction</td>\n",
       "    </tr>\n",
       "    <tr>\n",
       "      <th>4</th>\n",
       "      <td>118095.769979</td>\n",
       "      <td>prediction</td>\n",
       "    </tr>\n",
       "    <tr>\n",
       "      <th>...</th>\n",
       "      <td>...</td>\n",
       "      <td>...</td>\n",
       "    </tr>\n",
       "    <tr>\n",
       "      <th>672</th>\n",
       "      <td>330916.974228</td>\n",
       "      <td>prediction</td>\n",
       "    </tr>\n",
       "    <tr>\n",
       "      <th>673</th>\n",
       "      <td>112411.642679</td>\n",
       "      <td>prediction</td>\n",
       "    </tr>\n",
       "    <tr>\n",
       "      <th>674</th>\n",
       "      <td>110342.914942</td>\n",
       "      <td>prediction</td>\n",
       "    </tr>\n",
       "    <tr>\n",
       "      <th>675</th>\n",
       "      <td>181148.469740</td>\n",
       "      <td>prediction</td>\n",
       "    </tr>\n",
       "    <tr>\n",
       "      <th>676</th>\n",
       "      <td>170946.198041</td>\n",
       "      <td>prediction</td>\n",
       "    </tr>\n",
       "  </tbody>\n",
       "</table>\n",
       "<p>677 rows × 2 columns</p>\n",
       "</div>"
      ],
      "text/plain": [
       "                 0       value\n",
       "0    105911.941203  prediction\n",
       "1    379432.800714  prediction\n",
       "2    118365.400207  prediction\n",
       "3    132616.915397  prediction\n",
       "4    118095.769979  prediction\n",
       "..             ...         ...\n",
       "672  330916.974228  prediction\n",
       "673  112411.642679  prediction\n",
       "674  110342.914942  prediction\n",
       "675  181148.469740  prediction\n",
       "676  170946.198041  prediction\n",
       "\n",
       "[677 rows x 2 columns]"
      ]
     },
     "execution_count": 344,
     "metadata": {},
     "output_type": "execute_result"
    }
   ],
   "source": [
    "preds"
   ]
  },
  {
   "cell_type": "code",
   "execution_count": 352,
   "id": "1835a460-df9e-4259-b4c3-d7358ea04395",
   "metadata": {},
   "outputs": [],
   "source": [
    "test = pd.DataFrame(y_test)\n",
    "test['value'] = \"test\""
   ]
  },
  {
   "cell_type": "code",
   "execution_count": 355,
   "id": "8db4afcf-8a93-4783-9512-4b8e7950b8d5",
   "metadata": {},
   "outputs": [
    {
     "data": {
      "text/html": [
       "<div>\n",
       "<style scoped>\n",
       "    .dataframe tbody tr th:only-of-type {\n",
       "        vertical-align: middle;\n",
       "    }\n",
       "\n",
       "    .dataframe tbody tr th {\n",
       "        vertical-align: top;\n",
       "    }\n",
       "\n",
       "    .dataframe thead th {\n",
       "        text-align: right;\n",
       "    }\n",
       "</style>\n",
       "<table border=\"1\" class=\"dataframe\">\n",
       "  <thead>\n",
       "    <tr style=\"text-align: right;\">\n",
       "      <th></th>\n",
       "      <th>saleprice</th>\n",
       "      <th>value</th>\n",
       "      <th>0</th>\n",
       "    </tr>\n",
       "  </thead>\n",
       "  <tbody>\n",
       "  </tbody>\n",
       "</table>\n",
       "</div>"
      ],
      "text/plain": [
       "Empty DataFrame\n",
       "Columns: [saleprice, value, 0]\n",
       "Index: []"
      ]
     },
     "execution_count": 355,
     "metadata": {},
     "output_type": "execute_result"
    }
   ],
   "source": [
    "test.merge(preds, how='inner')"
   ]
  },
  {
   "cell_type": "code",
   "execution_count": null,
   "id": "49570824-6aa7-488a-8846-41902666e965",
   "metadata": {},
   "outputs": [],
   "source": [
    "sns.scatterplot()"
   ]
  },
  {
   "cell_type": "code",
   "execution_count": 98,
   "id": "4274594e-e84d-4081-bec5-8da610aebd2f",
   "metadata": {},
   "outputs": [],
   "source": [
    "coefs = ridge_grid.best_estimator_.coef_"
   ]
  },
  {
   "cell_type": "code",
   "execution_count": 104,
   "id": "bb14aabf-3603-4311-98b8-3b9ea8393e60",
   "metadata": {},
   "outputs": [],
   "source": [
    "meep = dict(zip(X_train.columns, coefs))\n",
    "meep = {k: v for k, v in sorted(meep.items(), key=lambda item: item[1])}"
   ]
  },
  {
   "cell_type": "markdown",
   "id": "b628693e-ccb1-48c4-ac86-63b7097e2469",
   "metadata": {
    "tags": []
   },
   "source": [
    "## Neighborhoods with Lower Sale Prices"
   ]
  },
  {
   "cell_type": "code",
   "execution_count": 320,
   "id": "bc7c0b3e-429f-4e59-8271-6293b75f7451",
   "metadata": {
    "tags": []
   },
   "outputs": [
    {
     "data": {
      "image/png": "[encoded data removed]",
      "text/plain": [
       "<Figure size 720x576 with 1 Axes>"
      ]
     },
     "metadata": {
      "needs_background": "light"
     },
     "output_type": "display_data"
    }
   ],
   "source": [
    "df_where = pd.DataFrame({k:v for k,v in meep.items() if 'neighborhood' in k}.items())\n",
    "\n",
    "plt.figure(figsize=(10, 8))\n",
    "\n",
    "bottom5_hoods = sns.barplot(x=1, y=0, data=df_where[:5], orient='h', palette=sns.diverging_palette(185, 16))\n",
    "\n",
    "bottom5_hoods.set_xlabel('Unit Standard Deviation Decrease in Sale Price', fontsize=14)\n",
    "bottom5_hoods.set_yticklabels(['Northwest Ames', 'Bloomington Heights', 'Briardale', 'Gilbert', 'Sawyer West'], fontsize=14)\n",
    "bottom5_hoods.set_ylabel('')\n",
    "bottom5_hoods.set_title('Neighborhoods with Lower Sale Prices', fontsize=20, y=1.02);"
   ]
  },
  {
   "cell_type": "markdown",
   "id": "263985ba-4cdf-4a1f-ba0b-3f8aa304df48",
   "metadata": {},
   "source": [
    "## Neighborhoods with Higher Sale Prices"
   ]
  },
  {
   "cell_type": "code",
   "execution_count": 318,
   "id": "a4832f71-1a5b-4aa3-8f50-d805525f3bfb",
   "metadata": {
    "tags": []
   },
   "outputs": [
    {
     "data": {
      "image/png": "[encoded data removed]",
      "text/plain": [
       "<Figure size 720x576 with 1 Axes>"
      ]
     },
     "metadata": {
      "needs_background": "light"
     },
     "output_type": "display_data"
    }
   ],
   "source": [
    "df_where = pd.DataFrame({k:v for k,v in meep.items() if 'neighborhood' in k}.items())\n",
    "\n",
    "plt.figure(figsize=(10, 8))\n",
    "\n",
    "top5_hoods = sns.barplot(x=1, y=0, data=df_where[-5:], orient='h', palette=sns.diverging_palette(16, 185))\n",
    "\n",
    "top5_hoods.set_xlabel('Unit Standard Deviation Increase in Sale Price', fontsize=14)\n",
    "top5_hoods.set_yticklabels(['Northridge', 'Crawford', 'Green Hills', 'Northridge Heights', 'Stone Brook'], fontsize=14)\n",
    "top5_hoods.set_ylabel('')\n",
    "top5_hoods.set_title('Neighborhoods with Higher Sale Prices', fontsize=20, y=1.02);"
   ]
  },
  {
   "cell_type": "markdown",
   "id": "88e3d975-8021-40b3-bced-b9b5dd89bce5",
   "metadata": {},
   "source": [
    "## Top 5 Home Features"
   ]
  },
  {
   "cell_type": "code",
   "execution_count": 317,
   "id": "e4ac5fe5-6f78-4252-ae7f-dc3d585b2911",
   "metadata": {
    "tags": []
   },
   "outputs": [
    {
     "data": {
      "image/png": "[encoded data removed]",
      "text/plain": [
       "<Figure size 720x576 with 1 Axes>"
      ]
     },
     "metadata": {
      "needs_background": "light"
     },
     "output_type": "display_data"
    }
   ],
   "source": [
    "plt.figure(figsize=(10, 8))\n",
    "\n",
    "df_how = pd.DataFrame({k:v for k,v in meep.items() if 'neighborhood' not in k}.items())\n",
    "\n",
    "top5_feats = sns.barplot(x=1, y=0, data=df_how[-5:], orient='h', palette=sns.diverging_palette(16, 185))\n",
    "\n",
    "top5_feats.set_xlabel('Unit Standard Deviation Increase in Sale Price', fontsize=14)\n",
    "top5_feats.set_yticklabels(['Size of Garage', 'Overall Condition', 'Half Bath(s)', 'Basement Full bath(s)', 'Overall Quality'], fontsize=14)\n",
    "top5_feats.set_ylabel('')\n",
    "top5_feats.set_title('Top 5 Home Features', fontsize=20, y=1.02);"
   ]
  },
  {
   "cell_type": "markdown",
   "id": "8adc651d-ca03-4dd8-94ac-2d7e663afa93",
   "metadata": {},
   "source": [
    "overal quality and finish of the house matters more than the overall condition of the house\n",
    "\n",
    "where to put the good stuff? the bathrooms (use the model of the full data set to say more) "
   ]
  },
  {
   "cell_type": "markdown",
   "id": "c0c51fae-3070-48ac-a280-e68e0cd04f84",
   "metadata": {
    "tags": []
   },
   "source": [
    "## Top 5 Least Impactful Home Features"
   ]
  },
  {
   "cell_type": "code",
   "execution_count": 316,
   "id": "21dd247d-c062-421d-8fa9-e61135eaf34b",
   "metadata": {
    "tags": []
   },
   "outputs": [
    {
     "data": {
      "image/png": "[encoded data removed]",
      "text/plain": [
       "<Figure size 720x576 with 1 Axes>"
      ]
     },
     "metadata": {
      "needs_background": "light"
     },
     "output_type": "display_data"
    }
   ],
   "source": [
    "plt.figure(figsize=(10, 8))\n",
    "\n",
    "df_how = pd.DataFrame({k:v for k,v in meep.items() if 'neighborhood' not in k}.items())\n",
    "\n",
    "bottom5_feats = sns.barplot(x=1, y=0, data=df_how[:5], orient='h', \n",
    "                            palette=sns.diverging_palette(185, 16))\n",
    "\n",
    "bottom5_feats.set_xlabel('Unit Standard Deviation Decrease in Sale Price', fontsize=14)\n",
    "bottom5_feats.set_yticklabels(['Kitchen(s)', 'Air Conditioning', 'Bedrooms', 'Basement Condition', 'Full Bath(s)'], fontsize=14)\n",
    "bottom5_feats.set_ylabel('')\n",
    "bottom5_feats.set_title('Top 5 Least Impactful Home Features', fontsize=20, y=1.02);"
   ]
  },
  {
   "cell_type": "code",
   "execution_count": 57,
   "id": "2512f959-cc8a-4d00-bf8e-fab8372bfd73",
   "metadata": {
    "tags": []
   },
   "outputs": [],
   "source": [
    "kaggle_train = pd.read_csv('../data/kaggle_train.csv')\n",
    "kaggle_test = pd.read_csv('../data/kaggle_test.csv')"
   ]
  },
  {
   "cell_type": "code",
   "execution_count": null,
   "id": "05e2314e-03c9-4073-80d8-7b1b425c8c73",
   "metadata": {},
   "outputs": [],
   "source": [
    "ridge_grid.fit(X_train,y_train)"
   ]
  }
 ],
 "metadata": {
  "kernelspec": {
   "display_name": "Python 3 (ipykernel)",
   "language": "python",
   "name": "python3"
  },
  "language_info": {
   "codemirror_mode": {
    "name": "ipython",
    "version": 3
   },
   "file_extension": ".py",
   "mimetype": "text/x-python",
   "name": "python",
   "nbconvert_exporter": "python",
   "pygments_lexer": "ipython3",
   "version": "3.9.7"
  }
 },
 "nbformat": 4,
 "nbformat_minor": 5
}
